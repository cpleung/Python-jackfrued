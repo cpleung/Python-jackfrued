{
 "cells": [
  {
   "cell_type": "markdown",
   "id": "87ebcc2d",
   "metadata": {},
   "source": [
    "Python语言基础50课：https://github.com/jackfrued/Python-Core-50-Courses\n",
    "\n",
    "# 第01课：初识Python\n",
    "\n",
    "\n",
    "## python 版本号\n",
    "\n",
    "大多数软件的版本号一般分为三段，形如A.B.C，其中A表示大版本号，当软件整体重写升级或出现不向后兼容的改变时，才会增加A；B表示功能更新，出现新功能时增加B；C表示小的改动（例如：修复了某个Bug），只要有修改就增加C。\n",
    "\n",
    "## python 的安装\n",
    "\n",
    "- Window 环境\n",
    "- macOS 环境"
   ]
  },
  {
   "cell_type": "markdown",
   "id": "840b6161",
   "metadata": {},
   "source": [
    "# 第02课：第一个Python程序\n",
    "\n",
    "## 编写代码工具\n",
    "\n",
    "### 交互式环境\n",
    "Window环境：在“命令提示符”工具中输入`python`，回车即进入Python的交互环境。\n",
    "\n",
    "macOS环境：在“终端”工具中输入`python3`进入交互环境（注：macOS系统自带python2）。\n",
    "\n",
    "在交互环境输入`quit()`，即可退出交互环境。\n",
    "\n",
    "更好的交互环境是 IPython，可以通过 python 的包管理工具`pip`安装：\n",
    "```\n",
    "pip install ipython\n",
    "```\n",
    "使用命令`IPython`进入该交互式环境。\n",
    "\n",
    "### 文本编辑器\n",
    "\n",
    "推荐 Visual Studio Code （简称VSCode）\n",
    "\n",
    "### 集成开发环境\n",
    "\n",
    "如果用Python开发商业项目，推荐使用更为专业的工具PyCharm。其社区版免费但功能相对弱小（其实已经足够强大），专业版功能强大，但需要按年或月付费使用，新用户可以试用30天时间。"
   ]
  },
  {
   "cell_type": "code",
   "execution_count": 2,
   "id": "fc4c0f2e",
   "metadata": {},
   "outputs": [
    {
     "name": "stdout",
     "output_type": "stream",
     "text": [
      "hello, world\n"
     ]
    }
   ],
   "source": [
    "print('hello, world')"
   ]
  },
  {
   "cell_type": "markdown",
   "id": "2532ca4d",
   "metadata": {},
   "source": [
    "## 注释代码\n",
    "\n",
    "\n",
    "1. 单行注释：以`#`和空格开头，可以注释掉从`#`开始后面一整行的内容。\n",
    "2. 多行注释：三个引号开头，三个引号结尾，通常用于添加多行说明性内容。\n"
   ]
  },
  {
   "cell_type": "markdown",
   "id": "8acaf476",
   "metadata": {},
   "source": [
    "# 第03课：Python语言元素之变量\n",
    "\n",
    "## 变量类型\n",
    "\n",
    "常用的有：\n",
    "\n",
    "- 整型（`int`）\n",
    "- 浮点型（`float`）\n",
    "- 字符串型（`str`）\n",
    "- 布尔型（`bool`）\n",
    "\n",
    "除此，Python还有很多其他数据类型，而且也允许我们自定义新的数据类型。\n",
    "\n",
    "## 变量命名\n",
    "\n",
    "- 硬性规则:\n",
    "    1. 变量名由字母、数字和下划线构成，数字不能开头。\n",
    "    2. 大小写敏感。\n",
    "    3. 变量名不要跟Python语言的关键字和保留字（如已有的函数、模块等的名字）发生重名的冲突。\n",
    "- 非硬性规则：\n",
    "    1. 变量名通常使用小写英文字母，多个单词用下划线进行连接。\n",
    "    2. 受保护的变量用单个下划线开头。\n",
    "    3. 私有的变量用两个下划线开头。"
   ]
  },
  {
   "cell_type": "code",
   "execution_count": 4,
   "id": "1b50fa44",
   "metadata": {},
   "outputs": [
    {
     "name": "stdout",
     "output_type": "stream",
     "text": [
      "112.345\n"
     ]
    }
   ],
   "source": [
    "a = 100\n",
    "b = 12.345\n",
    "print(a+b)"
   ]
  },
  {
   "cell_type": "code",
   "execution_count": 6,
   "id": "739d170c",
   "metadata": {},
   "outputs": [
    {
     "data": {
      "text/plain": [
       "float"
      ]
     },
     "execution_count": 6,
     "metadata": {},
     "output_type": "execute_result"
    }
   ],
   "source": [
    "type(a)"
   ]
  },
  {
   "cell_type": "code",
   "execution_count": 8,
   "id": "4add40f9",
   "metadata": {},
   "outputs": [
    {
     "data": {
      "text/plain": [
       "float"
      ]
     },
     "execution_count": 8,
     "metadata": {},
     "output_type": "execute_result"
    }
   ],
   "source": [
    "type(b)"
   ]
  },
  {
   "cell_type": "code",
   "execution_count": 10,
   "id": "9cce3d3d",
   "metadata": {},
   "outputs": [
    {
     "data": {
      "text/plain": [
       "str"
      ]
     },
     "execution_count": 10,
     "metadata": {},
     "output_type": "execute_result"
    }
   ],
   "source": [
    "c = 'hello, world'\n",
    "type(c)"
   ]
  },
  {
   "cell_type": "markdown",
   "id": "5f43a17d",
   "metadata": {},
   "source": [
    "不同类型的变量可以通过Python的内置函数相互转换：\n",
    "\n",
    "- int()：将一个数值或字符串转换成整数，可以指定进制。\n",
    "- float()：将一个字符串转换成浮点数。\n",
    "- str()：将指定的对象转换成字符串形式，可以指定编码。\n",
    "- chr()：将整数转换成该编码对应的字符串（一个字符）。\n",
    "- ord()：将字符串（一个字符）转换成对应的编码（整数）。"
   ]
  },
  {
   "cell_type": "code",
   "execution_count": 15,
   "id": "95022e28",
   "metadata": {},
   "outputs": [
    {
     "name": "stdout",
     "output_type": "stream",
     "text": [
      "12.345\n"
     ]
    }
   ],
   "source": [
    "print(str(b))"
   ]
  },
  {
   "cell_type": "markdown",
   "id": "036d25aa",
   "metadata": {},
   "source": [
    "# 第04课：Python语言元素之运算符\n",
    "\n",
    "|运算符        |描述                           |\n",
    "|-------------------------------------------------- |------------------------------ |\n",
    "| `[]` `[:]`                                                   | 下标，切片                     |\n",
    "| `**`                                                         | 指数                           |\n",
    "| `~` `+` `-`                                                  | 按位取反, 正负号               |\n",
    "| `*` `/` `%` `//`                                             | 乘，除，模，整除               |\n",
    "| `+` `-`                                                      | 加，减                         |\n",
    "| `>>` `<<`                                                    | 右移，左移                     |\n",
    "| `&`                                                          | 按位与                         |\n",
    "| `^` `\\|`                                                      | 按位异或，按位或               |\n",
    "| `<=` `<` `>` `>=`                                            | 小于等于，小于，大于，大于等于 |\n",
    "| `==` `!=`                                                    | 等于，不等于                   |\n",
    "| `is`  `is not`                                               | 身份运算符                     |\n",
    "| `in` `not in`                                                | 成员运算符                     |\n",
    "| `not` `or` `and`                                             | 逻辑运算符                     |\n",
    "| `=` `+=` `-=` `*=` `/=` `%=` `//=` `**=` `&=` `\\|=` `^=` `>>=` `<<=` | （复合）赋值运算符             |\n",
    "\n",
    ">**说明：** 上面这个表格是按照运算符的优先级从上到下列出了各种运算符。所谓优先级就是在一个运算的表达式中，如果出现了多个运算符，应该先执行哪个运算再执行哪个运算的顺序。在实际开发中，如果搞不清楚运算符的优先级，可以使用圆括号来确保运算的执行顺序。"
   ]
  },
  {
   "cell_type": "code",
   "execution_count": 17,
   "id": "d55f9a14",
   "metadata": {},
   "outputs": [
    {
     "data": {
      "text/plain": [
       "1"
      ]
     },
     "execution_count": 17,
     "metadata": {},
     "output_type": "execute_result"
    }
   ],
   "source": [
    "13 % 3"
   ]
  },
  {
   "cell_type": "code",
   "execution_count": 18,
   "id": "6d4fd1e6",
   "metadata": {},
   "outputs": [
    {
     "data": {
      "text/plain": [
       "4"
      ]
     },
     "execution_count": 18,
     "metadata": {},
     "output_type": "execute_result"
    }
   ],
   "source": [
    "13 // 3"
   ]
  },
  {
   "cell_type": "code",
   "execution_count": 20,
   "id": "de229e7d",
   "metadata": {},
   "outputs": [
    {
     "data": {
      "text/plain": [
       "2197"
      ]
     },
     "execution_count": 20,
     "metadata": {},
     "output_type": "execute_result"
    }
   ],
   "source": [
    "13 ** 3"
   ]
  },
  {
   "cell_type": "markdown",
   "id": "6d667918",
   "metadata": {},
   "source": [
    "## 赋值运算符"
   ]
  },
  {
   "cell_type": "code",
   "execution_count": 21,
   "id": "6ad1097b",
   "metadata": {},
   "outputs": [
    {
     "name": "stdout",
     "output_type": "stream",
     "text": [
      "195\n"
     ]
    }
   ],
   "source": [
    "a = 10\n",
    "b = 3\n",
    "a += b        # 相当于：a = a + b\n",
    "a *= a + 2    # 相当于：a = a * (a + 2)\n",
    "print(a)"
   ]
  },
  {
   "cell_type": "code",
   "execution_count": 23,
   "id": "f0179d04",
   "metadata": {},
   "outputs": [
    {
     "name": "stdout",
     "output_type": "stream",
     "text": [
      "False\n"
     ]
    }
   ],
   "source": [
    "flag0 = 1 == 1\n",
    "flag1 = 3 > 2\n",
    "flag2 = 2 < 1\n",
    "print(flag2)"
   ]
  },
  {
   "cell_type": "markdown",
   "id": "9960fe18",
   "metadata": {},
   "source": [
    "## 例子\n",
    "\n",
    "例1：华氏温度转换为摄氏温度。转换公式为：`C = (F - 32) / 1.8`"
   ]
  },
  {
   "cell_type": "code",
   "execution_count": 27,
   "id": "c9a3e9fa",
   "metadata": {},
   "outputs": [
    {
     "name": "stdout",
     "output_type": "stream",
     "text": [
      "输入华氏温度：120\n",
      "120.0华氏温度 = 48.9摄氏度\n"
     ]
    }
   ],
   "source": [
    "f = float(input('输入华氏温度：'))\n",
    "c = (f-32)/1.8\n",
    "print('%.1f华氏温度 = %.1f摄氏度' %(f,c))"
   ]
  },
  {
   "cell_type": "markdown",
   "id": "4823b66c",
   "metadata": {},
   "source": [
    "例2：输入圆的半径计算计算周长和面积。"
   ]
  },
  {
   "cell_type": "code",
   "execution_count": 32,
   "id": "57673f9c",
   "metadata": {},
   "outputs": [
    {
     "name": "stdout",
     "output_type": "stream",
     "text": [
      "输入半径：1.2\n",
      "半径为1.20的圆，周长为7.54，面积为4.52\n"
     ]
    }
   ],
   "source": [
    "r = float(input('输入半径：'))\n",
    "l = 2 * 3.1415926 * r\n",
    "a = r**2 * 3.1415926\n",
    "print('半径为%.2f的圆，周长为%.2f，面积为%.2f' %(r,l,a))"
   ]
  },
  {
   "cell_type": "markdown",
   "id": "133a1af2",
   "metadata": {},
   "source": [
    "例子3：输入年份判断是不是闰年。"
   ]
  },
  {
   "cell_type": "code",
   "execution_count": 34,
   "id": "a5b1368b",
   "metadata": {},
   "outputs": [
    {
     "name": "stdout",
     "output_type": "stream",
     "text": [
      "请输入年份: 2023\n",
      "False\n"
     ]
    }
   ],
   "source": [
    "year = int(input('请输入年份: '))\n",
    "is_leap = year % 4 == 0 and year % 100 != 0 or year % 400 == 0\n",
    "print(is_leap)"
   ]
  },
  {
   "cell_type": "markdown",
   "id": "41bcbe5c",
   "metadata": {},
   "source": [
    "# 第05课：分支结构\n",
    "\n",
    "在Python中，要构造分支结构可以使用`if`、`elif`和`else`关键字。"
   ]
  },
  {
   "cell_type": "code",
   "execution_count": 35,
   "id": "454cb063",
   "metadata": {},
   "outputs": [
    {
     "name": "stdout",
     "output_type": "stream",
     "text": [
      "输入用户名：admin\n",
      "输入密码：12345\n",
      "身份验证失败！\n"
     ]
    }
   ],
   "source": [
    "username = input('输入用户名：')\n",
    "password = input('输入密码：')\n",
    "# 假设用户名为 admin，密码为 123456\n",
    "if username == 'amdim' and password == '123456':\n",
    "    print('身份验证成功！')\n",
    "else:\n",
    "    print('身份验证失败！')"
   ]
  },
  {
   "cell_type": "markdown",
   "id": "0ae2590c",
   "metadata": {},
   "source": [
    "注： Python中没有用花括号来构造代码块，而是使用了缩进的方式来表示代码的层次结构。缩进可以使用任意数量的空格，但通常使用4个空格，强烈建议**不要**使用制表键来缩进代码。如果你已经习惯了这么做，可以设置代码编辑工具将1个制表键自动变成4个空格，很多的代码编辑工具都支持这项功能。"
   ]
  },
  {
   "cell_type": "code",
   "execution_count": 36,
   "id": "55420573",
   "metadata": {},
   "outputs": [
    {
     "name": "stdout",
     "output_type": "stream",
     "text": [
      "x = 1.5\n",
      "f(1.5)=-0.5\n"
     ]
    }
   ],
   "source": [
    "x = float(input('x = '))\n",
    "if x > 1:\n",
    "    y = 3 * x - 5\n",
    "elif x >= -1:\n",
    "    y = x + 2\n",
    "else:\n",
    "    y = 5 * x + 3\n",
    "print(f'f({x})={y}')"
   ]
  },
  {
   "cell_type": "markdown",
   "id": "c59df1d0",
   "metadata": {},
   "source": [
    "# 第06课：循环结构\n",
    "\n",
    "## for-in循环"
   ]
  },
  {
   "cell_type": "code",
   "execution_count": 38,
   "id": "d381f73d",
   "metadata": {},
   "outputs": [
    {
     "name": "stdout",
     "output_type": "stream",
     "text": [
      "5050\n"
     ]
    }
   ],
   "source": [
    "total = 0\n",
    "for x in range(0,101):\n",
    "    total += x\n",
    "print(total)"
   ]
  },
  {
   "cell_type": "markdown",
   "id": "1817b363",
   "metadata": {},
   "source": [
    "- `range(101)`：产生0到100范围的整数，要注意的是取不到101。\n",
    "- `range(1, 101)`：产生1到100范围的整数，前面是闭区间而后面是开区间。\n",
    "- `range(1, 101, 2)`：来产生1到100的奇数，其中2是步长，即每次递增的值。\n",
    "- `range(100, 0, -2)`：可以用来产生100到1的偶数，其中-2是步长，即每次递减的值。"
   ]
  },
  {
   "cell_type": "code",
   "execution_count": 39,
   "id": "904fdccd",
   "metadata": {},
   "outputs": [
    {
     "name": "stdout",
     "output_type": "stream",
     "text": [
      "2550\n"
     ]
    }
   ],
   "source": [
    "total = 0\n",
    "for x in range(0,101,2):\n",
    "    total += x\n",
    "print(total)"
   ]
  },
  {
   "cell_type": "markdown",
   "id": "dce9f0fd",
   "metadata": {},
   "source": [
    "## while循环\n",
    "\n",
    "对于 for-in 和 while 循环，都可以使用：\n",
    "\n",
    "- `break`终止它所在的那个循环(这一点在使用嵌套循环结构时需要引起注意).\n",
    "- `continue` 放弃本次循环后续的代码直接让循环进入下一轮。"
   ]
  },
  {
   "cell_type": "code",
   "execution_count": 40,
   "id": "e2c8d79d",
   "metadata": {},
   "outputs": [
    {
     "name": "stdout",
     "output_type": "stream",
     "text": [
      "1*1=1\t\n",
      "2*1=2\t2*2=4\t\n",
      "3*1=3\t3*2=6\t3*3=9\t\n",
      "4*1=4\t4*2=8\t4*3=12\t4*4=16\t\n",
      "5*1=5\t5*2=10\t5*3=15\t5*4=20\t5*5=25\t\n",
      "6*1=6\t6*2=12\t6*3=18\t6*4=24\t6*5=30\t6*6=36\t\n",
      "7*1=7\t7*2=14\t7*3=21\t7*4=28\t7*5=35\t7*6=42\t7*7=49\t\n",
      "8*1=8\t8*2=16\t8*3=24\t8*4=32\t8*5=40\t8*6=48\t8*7=56\t8*8=64\t\n",
      "9*1=9\t9*2=18\t9*3=27\t9*4=36\t9*5=45\t9*6=54\t9*7=63\t9*8=72\t9*9=81\t\n"
     ]
    }
   ],
   "source": [
    "for i in range(1,10):\n",
    "    for j in range(1,i+1):\n",
    "        print(f'{i}*{j}={i * j}', end='\\t')\n",
    "    print() #来实现换行输出的效果"
   ]
  },
  {
   "cell_type": "markdown",
   "id": "245a295d",
   "metadata": {},
   "source": [
    "## 例子\n",
    "\n",
    "例子1：输入一个正整数判断它是不是素数。"
   ]
  },
  {
   "cell_type": "code",
   "execution_count": 54,
   "id": "6fbf17de",
   "metadata": {},
   "outputs": [
    {
     "name": "stdout",
     "output_type": "stream",
     "text": [
      "输入一个正整数：9\n",
      "9 is not a prime.\n"
     ]
    }
   ],
   "source": [
    "x = int(input('输入一个正整数：'))\n",
    "is_prime = True\n",
    "if x > 3:\n",
    "    for i in range(2,int(x**0.5)+1):\n",
    "        if x % i == 0:\n",
    "            is_prime = False\n",
    "            break                    #跳出for-in循环\n",
    "if is_prime and x !=1:\n",
    "    print(f'{x} is a prime.')\n",
    "else:\n",
    "    print(f'{x} is not a prime.')"
   ]
  },
  {
   "cell_type": "markdown",
   "id": "cd73b1b3",
   "metadata": {},
   "source": [
    "例子2：输入两个正整数，计算它们的最大公约数和最小公倍数。"
   ]
  },
  {
   "cell_type": "code",
   "execution_count": 57,
   "id": "cb7bf2bd",
   "metadata": {},
   "outputs": [
    {
     "name": "stdout",
     "output_type": "stream",
     "text": [
      "输入正整数 x ：18\n",
      "输入正整数 y ：27\n",
      "18和27的最小公倍数为54，最大公约数为9\n"
     ]
    }
   ],
   "source": [
    "x = int(input('输入正整数 x ：'))\n",
    "y = int(input('输入正整数 y ：'))\n",
    "\n",
    "for i in range (2,x*y+1):\n",
    "    if i % x == 0 and i % y ==0:\n",
    "        a = i\n",
    "        break # 求出最小公倍数 a\n",
    "\n",
    "for i in range (x+1,2,-1):\n",
    "    if x % i == 0 and y % i ==0:\n",
    "        b = i\n",
    "        break # 求出最大公约数 b\n",
    "\n",
    "print(f'{x}和{y}的最小公倍数为{a}，最大公约数为{b}')\n",
    "\n",
    "# 其实 a 和 b 一定有关系：a*b=x*y。利用此关系，求出一个，即可求出另一个。"
   ]
  },
  {
   "cell_type": "markdown",
   "id": "4a1beeac",
   "metadata": {},
   "source": [
    "# 第07课：分支和循环结构的应用\n",
    "\n",
    "例子1：寻找水仙花数。\n",
    "\n",
    "水仙花数也被称为超完全数字不变数、自恋数、自幂数、阿姆斯特朗数，它是一个3位数，该数字每个位上数字的立方之和正好等于它本身，例如：$ 153=1^3+5^3+3^3 $。"
   ]
  },
  {
   "cell_type": "code",
   "execution_count": 58,
   "id": "34503c14",
   "metadata": {},
   "outputs": [
    {
     "name": "stdout",
     "output_type": "stream",
     "text": [
      "153\n",
      "370\n",
      "371\n",
      "407\n"
     ]
    }
   ],
   "source": [
    "for x in range(100,1000):\n",
    "    x_1 = x // 100        #取x的百位数字\n",
    "    x_2 = (x // 10) % 10  #取x的十位数字\n",
    "    x_3 = x % 10          #取x的个位数字\n",
    "    if x == x_1 ** 3 + x_2 ** 3 + x_3 **3:\n",
    "        print(x)"
   ]
  },
  {
   "cell_type": "markdown",
   "id": "a7b52fb5",
   "metadata": {},
   "source": [
    "例子2：百钱百鸡问题。\n",
    "\n",
    "百钱百鸡是我国古代数学家张丘建在《算经》一书中提出的数学问题：鸡翁一值钱五，鸡母一值钱三，鸡雏三值钱一。百钱买百鸡，问鸡翁、鸡母、鸡雏各几何？翻译成现代文是：公鸡5元一只，母鸡3元一只，小鸡1元三只，用100块钱买一百只鸡，问公鸡、母鸡、小鸡各有多少只？"
   ]
  },
  {
   "cell_type": "code",
   "execution_count": 61,
   "id": "2cc7f2d5",
   "metadata": {},
   "outputs": [
    {
     "name": "stdout",
     "output_type": "stream",
     "text": [
      "(0,25,75)\n",
      "(4,18,78)\n",
      "(8,11,81)\n",
      "(12,4,84)\n"
     ]
    }
   ],
   "source": [
    "for x in range(0,21):                      # x表示公鸡只数，不会超过20只\n",
    "    for  y in range(0,34):                 # y表示母鸡只数，不会超过34只\n",
    "        z = 100 - x -y                     # z表示小鸡只数，必须满足 x+y+z=100\n",
    "        if 5 * x + 3 * y + z/3 == 100:\n",
    "            print(f'({x},{y},{z})')"
   ]
  },
  {
   "cell_type": "markdown",
   "id": "a6b66485",
   "metadata": {},
   "source": [
    "例子3：打印1000以内的素数。"
   ]
  },
  {
   "cell_type": "code",
   "execution_count": 77,
   "id": "c96b1dda",
   "metadata": {},
   "outputs": [
    {
     "name": "stdout",
     "output_type": "stream",
     "text": [
      "1-1000内的素数有168个：[2, 3, 5, 7, 11, 13, 17, 19, 23, 29, 31, 37, 41, 43, 47, 53, 59, 61, 67, 71, 73, 79, 83, 89, 97, 101, 103, 107, 109, 113, 127, 131, 137, 139, 149, 151, 157, 163, 167, 173, 179, 181, 191, 193, 197, 199, 211, 223, 227, 229, 233, 239, 241, 251, 257, 263, 269, 271, 277, 281, 283, 293, 307, 311, 313, 317, 331, 337, 347, 349, 353, 359, 367, 373, 379, 383, 389, 397, 401, 409, 419, 421, 431, 433, 439, 443, 449, 457, 461, 463, 467, 479, 487, 491, 499, 503, 509, 521, 523, 541, 547, 557, 563, 569, 571, 577, 587, 593, 599, 601, 607, 613, 617, 619, 631, 641, 643, 647, 653, 659, 661, 673, 677, 683, 691, 701, 709, 719, 727, 733, 739, 743, 751, 757, 761, 769, 773, 787, 797, 809, 811, 821, 823, 827, 829, 839, 853, 857, 859, 863, 877, 881, 883, 887, 907, 911, 919, 929, 937, 941, 947, 953, 967, 971, 977, 983, 991, 997]\n"
     ]
    }
   ],
   "source": [
    "a = [2]                        # a 是列表，将用于存储素数\n",
    "end = 1000\n",
    "for i in range(3, end + 1):\n",
    "    is_prime = True\n",
    "    for j in a:                # 开始判断 i 是否素数\n",
    "        if i % j == 0:\n",
    "            is_prime = False\n",
    "            break\n",
    "        if j >= i**0.5:        # 当j较大时，不用验证是否为i的因子\n",
    "            break\n",
    "    if is_prime == True:\n",
    "        a += [i]               # 若 i 是素数，则加入列表 a\n",
    "print(f'1-{end}内的素数有{len(a)}个：{a}')"
   ]
  },
  {
   "cell_type": "markdown",
   "id": "e85772fd",
   "metadata": {},
   "source": [
    "例子3：CRAPS赌博游戏。\n",
    "\n",
    "说明：CRAPS又称花旗骰，是美国拉斯维加斯非常受欢迎的一种的桌上赌博游戏。该游戏使用两粒骰子，玩家通过摇两粒骰子获得点数进行游戏。简化后的规则是：玩家第一次摇骰子如果摇出了7点或11点，玩家胜；玩家第一次如果摇出2点、3点或12点，庄家胜；玩家如果摇出其他点数则玩家继续摇骰子，如果玩家摇出了7点，庄家胜；如果玩家摇出了第一次摇的点数，玩家胜；其他点数玩家继续摇骰子，直到分出胜负。\n",
    "\n",
    "我们设定游戏开始时玩家有1000元的赌注\n",
    "游戏结束的条件是玩家破产（输光所有的赌注），此时玩了多少局。"
   ]
  },
  {
   "cell_type": "code",
   "execution_count": 202,
   "id": "ee5a8231",
   "metadata": {},
   "outputs": [
    {
     "name": "stdout",
     "output_type": "stream",
     "text": [
      "74900\n"
     ]
    }
   ],
   "source": [
    "from random import randint\n",
    "\n",
    "def craps(total, money):\n",
    "    \"\"\"\n",
    "    total：表示开始时玩家的金额\n",
    "    money：表示每局的投注额\n",
    "    每局最多进行两回合，最终出现三种结果：\n",
    "    玩家赢，此时 total += money；\n",
    "    庄家赢，此时 total -= money；\n",
    "    平局，此时 total 不变。\n",
    "    \"\"\"\n",
    "    first = randint(1, 6) + randint(1, 6)     #第一回合摇两个骰子\n",
    "    if first == 7 or first == 11:\n",
    "        total += money\n",
    "    elif first == 2 or first == 3 or first == 12:\n",
    "        total -= money\n",
    "    else:                                     #进入第2回合\n",
    "        second = randint(1, 6) + randint(1, 6)\n",
    "        if second == 7:\n",
    "            total -= money\n",
    "        elif first == second:\n",
    "            total += money\n",
    "        else:\n",
    "            total = total\n",
    "    return total\n",
    "\n",
    "total = 1000\n",
    "money = 100\n",
    "for _ in range(0,10001):\n",
    "    total = craps(total, money)\n",
    "print(total)"
   ]
  },
  {
   "cell_type": "markdown",
   "id": "59575426",
   "metadata": {},
   "source": [
    "从运行结果看，局数越多，玩家赢钱越多。似乎对题意的理解有问题。"
   ]
  }
 ],
 "metadata": {
  "kernelspec": {
   "display_name": "python_learning",
   "language": "python",
   "name": "python_learning"
  },
  "language_info": {
   "codemirror_mode": {
    "name": "ipython",
    "version": 3
   },
   "file_extension": ".py",
   "mimetype": "text/x-python",
   "name": "python",
   "nbconvert_exporter": "python",
   "pygments_lexer": "ipython3",
   "version": "3.8.15"
  }
 },
 "nbformat": 4,
 "nbformat_minor": 5
}
